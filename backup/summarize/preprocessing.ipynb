{
 "cells": [
  {
   "cell_type": "code",
   "execution_count": 1,
   "metadata": {
    "id": "1918e662-3b82-4e31-b3ba-dfc73ec82186",
    "trusted": true
   },
   "outputs": [],
   "source": [
    "%%capture\n",
    "%pip install hf_xet transformers sklearn"
   ]
  },
  {
   "cell_type": "code",
   "execution_count": 2,
   "metadata": {
    "id": "a7ab84bf"
   },
   "outputs": [],
   "source": [
    "import pandas as pd\n",
    "from sklearn.model_selection import train_test_split\n",
    "from transformers import T5TokenizerFast\n",
    "from sklearn.feature_extraction.text import TfidfVectorizer\n",
    "from sklearn.metrics.pairwise import cosine_similarity\n",
    "from collections import Counter\n",
    "\n",
    "import numpy as np\n"
   ]
  },
  {
   "cell_type": "code",
   "execution_count": 3,
   "metadata": {
    "id": "4fa64a8c"
   },
   "outputs": [],
   "source": [
    "datasetpath = \"./cnn_dailymail/\"\n",
    "outputpath = \"./data/\"\n",
    "trainpath = datasetpath + 'train.csv'\n",
    "testpath = datasetpath + 'test.csv'\n",
    "valpath = datasetpath + 'validation.csv'\n",
    "\n",
    "train = pd.read_csv(trainpath)\n",
    "test = pd.read_csv(testpath)\n",
    "val = pd.read_csv(valpath)\n",
    "\n",
    "df = pd.concat([train, test, val], ignore_index=True)"
   ]
  },
  {
   "cell_type": "code",
   "execution_count": 4,
   "metadata": {
    "id": "be992339",
    "outputId": "f1c65b34-7c67-4e7c-a703-0c926a9bf982"
   },
   "outputs": [
    {
     "data": {
      "text/plain": [
       "(311971, 3)"
      ]
     },
     "execution_count": 4,
     "metadata": {},
     "output_type": "execute_result"
    }
   ],
   "source": [
    "df.shape"
   ]
  },
  {
   "cell_type": "markdown",
   "metadata": {
    "id": "oI5uIuKOh5ES"
   },
   "source": [
    "### Remove random 90%"
   ]
  },
  {
   "cell_type": "code",
   "execution_count": 5,
   "metadata": {
    "id": "JKyVnR63ihdZ",
    "outputId": "31bcd919-834d-4be4-df30-6e3396e73871"
   },
   "outputs": [
    {
     "data": {
      "text/plain": [
       "(31197, 3)"
      ]
     },
     "execution_count": 5,
     "metadata": {},
     "output_type": "execute_result"
    }
   ],
   "source": [
    "df = df.sample(frac=0.1)\n",
    "df.shape\n"
   ]
  },
  {
   "cell_type": "markdown",
   "metadata": {
    "id": "7224840a"
   },
   "source": [
    "### Cosine Similarity analysis"
   ]
  },
  {
   "cell_type": "code",
   "execution_count": 6,
   "metadata": {
    "id": "08b7f5ee"
   },
   "outputs": [],
   "source": [
    "vectorizer  = TfidfVectorizer(stop_words=\"english\")\n",
    "\n",
    "def cosine_similarity_analysis(df):\n",
    "    tfidf_matrix = vectorizer.fit_transform(df['article'].tolist() + df['highlights'].tolist())\n",
    "    article_vectors = tfidf_matrix[:len(df)]\n",
    "    highlights_vectors = tfidf_matrix[len(df):]\n",
    "\n",
    "    cosine_sim = [cosine_similarity(article_vectors[i], highlights_vectors[i])[0][0] for i in range(len(df))]\n",
    "\n",
    "    result_df = pd.DataFrame({\n",
    "        'id': df['id'],\n",
    "        'cosine_similarity': cosine_sim\n",
    "    })\n",
    "\n",
    "    return result_df"
   ]
  },
  {
   "cell_type": "markdown",
   "metadata": {
    "id": "4a220493"
   },
   "source": [
    "### Trim data with cosine similarity below 0.3."
   ]
  },
  {
   "cell_type": "code",
   "execution_count": 7,
   "metadata": {
    "id": "Zxp7XoMnCJQJ"
   },
   "outputs": [],
   "source": [
    "cosine_df = cosine_similarity_analysis(df)"
   ]
  },
  {
   "cell_type": "code",
   "execution_count": 8,
   "metadata": {
    "id": "cb15b489",
    "outputId": "8195f013-a25f-49f0-fa64-04d04d278e97"
   },
   "outputs": [
    {
     "data": {
      "text/plain": [
       "(28755, 3)"
      ]
     },
     "execution_count": 8,
     "metadata": {},
     "output_type": "execute_result"
    }
   ],
   "source": [
    "df = df[cosine_df['cosine_similarity'] >= 0.3]\n",
    "df.shape"
   ]
  },
  {
   "cell_type": "markdown",
   "metadata": {
    "id": "d91c9ecd"
   },
   "source": [
    "### Token-frequency-based-filtering-and-vocabulary-aware stratified sampling"
   ]
  },
  {
   "cell_type": "code",
   "execution_count": 9,
   "metadata": {
    "id": "fa5165e9"
   },
   "outputs": [],
   "source": [
    "def stratified_split(df, tokenized_df, min_freq=3, qcut=5):\n",
    "\n",
    "    # Flatten all tokens from titles and abstracts\n",
    "    all_tokens = (\n",
    "        tokenized_df['tokenized_article'].explode().tolist()\n",
    "        + tokenized_df['tokenized_highlights'].explode().tolist()\n",
    "    )\n",
    "\n",
    "    token_freq = Counter(all_tokens)\n",
    "\n",
    "    valid_tokens = {tok for tok, freq in token_freq.items() if freq >= min_freq}\n",
    "\n",
    "    # Calculate vocabulary for each abstract\n",
    "    tokenized_df[\"vocab\"] = tokenized_df.apply(\n",
    "            lambda row: set(\n",
    "                tok for tok in row[\"tokenized_highlights\"] + row[\"tokenized_article\"]\n",
    "                if tok in valid_tokens\n",
    "            ),\n",
    "            axis=1,\n",
    "        )\n",
    "\n",
    "    # Create a global vocabulary\n",
    "    global_vocab = set().union(*tokenized_df[\"vocab\"])\n",
    "\n",
    "    # Calculate overlap with global vocabulary\n",
    "    tokenized_df[\"overlap\"] = tokenized_df[\"vocab\"].apply(\n",
    "        lambda x: len(x & global_vocab) / len(global_vocab) if global_vocab else 0\n",
    "    )\n",
    "\n",
    "    # Bin overlap into categories for stratification\n",
    "    tokenized_df[\"overlap_bin\"] = pd.qcut(tokenized_df[\"overlap\"], q=qcut, labels=False)\n",
    "\n",
    "    # Perform stratified splitting\n",
    "    train_idx, temp_idx = train_test_split(\n",
    "        tokenized_df.index,\n",
    "        test_size=0.2,\n",
    "        stratify=tokenized_df[\"overlap_bin\"],\n",
    "        random_state=42,\n",
    "    )\n",
    "    val_idx, test_idx = train_test_split(\n",
    "        temp_idx,\n",
    "        test_size=0.5,\n",
    "        stratify=tokenized_df.loc[temp_idx, \"overlap_bin\"],\n",
    "        random_state=42,\n",
    "    )\n",
    "\n",
    "    # Extract dataframes\n",
    "    train_df = tokenized_df.loc[train_idx]\n",
    "    val_df = tokenized_df.loc[val_idx]\n",
    "    test_df = tokenized_df.loc[test_idx]\n",
    "\n",
    "    # Count words in val and test that are not in train\n",
    "    train_vocab = set().union(*train_df[\"vocab\"])\n",
    "    val_vocab = set().union(*val_df[\"vocab\"])\n",
    "    test_vocab = set().union(*test_df[\"vocab\"])\n",
    "\n",
    "    val_not_train = len(val_vocab - train_vocab)\n",
    "    test_not_train = len(test_vocab - train_vocab)\n",
    "\n",
    "    return {\n",
    "        \"train_df\": df.loc[train_idx],\n",
    "        \"val_df\": df.loc[val_idx],\n",
    "        \"test_df\": df.loc[test_idx],\n",
    "        \"val-train\": val_not_train,\n",
    "        \"test-train\": test_not_train,\n",
    "    }"
   ]
  },
  {
   "cell_type": "code",
   "execution_count": 10,
   "metadata": {
    "id": "da8acaa9",
    "outputId": "0446363f-7a86-461b-822b-e37ee8c564c5"
   },
   "outputs": [
    {
     "name": "stderr",
     "output_type": "stream",
     "text": [
      "[nltk_data] Downloading package punkt to /home/tiamatt/nltk_data...\n",
      "[nltk_data]   Package punkt is already up-to-date!\n",
      "[nltk_data] Downloading package punkt_tab to\n",
      "[nltk_data]     /home/tiamatt/nltk_data...\n",
      "[nltk_data]   Unzipping tokenizers/punkt_tab.zip.\n"
     ]
    }
   ],
   "source": [
    "import nltk\n",
    "nltk.download('punkt')\n",
    "nltk.download('punkt_tab')\n",
    "from nltk.tokenize import word_tokenize\n",
    "\n",
    "tokenized_df = pd.DataFrame()\n",
    "tokenized_df['tokenized_article'] = df['article'].apply(lambda x: word_tokenize(x))\n",
    "tokenized_df['tokenized_highlights'] = df['article'].apply(lambda x: word_tokenize(x))"
   ]
  },
  {
   "cell_type": "code",
   "execution_count": null,
   "metadata": {
    "id": "gMKB6Vg-gOUg",
    "outputId": "60326f09-a012-4840-fe62-e35b342edbe8"
   },
   "outputs": [
    {
     "data": {
      "image/png": "[encoded data removed]",
      "text/plain": [
       "<Figure size 1200x500 with 2 Axes>"
      ]
     },
     "metadata": {},
     "output_type": "display_data"
    }
   ],
   "source": [
    "import matplotlib.pyplot as plt\n",
    "\n",
    "tokenized_df['article_token_count'] = tokenized_df['tokenized_article'].apply(len)\n",
    "tokenized_df['highlights_token_count'] = tokenized_df['tokenized_highlights'].apply(len)\n",
    "\n",
    "plt.figure(figsize=(12, 5))\n",
    "\n",
    "plt.subplot(1, 2, 1)\n",
    "plt.hist(tokenized_df['article_token_count'], bins=50, color='skyblue', edgecolor='black')\n",
    "plt.title('Article Token Count Distribution')\n",
    "plt.xlabel('Token Count')\n",
    "plt.ylabel('Frequency')\n",
    "\n",
    "plt.subplot(1, 2, 2)\n",
    "plt.hist(tokenized_df['highlights_token_count'], bins=50, color='salmon', edgecolor='black')\n",
    "plt.title('Highlights Token Count Distribution')\n",
    "plt.xlabel('Token Count')\n",
    "plt.ylabel('Frequency')\n",
    "\n",
    "plt.tight_layout()\n",
    "plt.show()\n"
   ]
  },
  {
   "cell_type": "code",
   "execution_count": 12,
   "metadata": {
    "id": "ef7b79bc",
    "outputId": "6d10fbcf-5f74-437f-d81b-7c7d3adfaeea"
   },
   "outputs": [
    {
     "data": {
      "text/plain": [
       "(22305, 4)"
      ]
     },
     "execution_count": 12,
     "metadata": {},
     "output_type": "execute_result"
    }
   ],
   "source": [
    "tokenized_df = tokenized_df[(tokenized_df['article_token_count'] >= 128) & (tokenized_df['article_token_count'] <= 1024) & (tokenized_df['highlights_token_count'] >= 128) & (tokenized_df['highlights_token_count'] <= 1024)]\n",
    "tokenized_df.shape\n"
   ]
  },
  {
   "cell_type": "markdown",
   "metadata": {
    "id": "IqvY0mrlm8_G"
   },
   "source": [
    "### Stratified sampling"
   ]
  },
  {
   "cell_type": "code",
   "execution_count": 13,
   "metadata": {
    "id": "ea05c4ea",
    "outputId": "9860e0c2-6789-4d60-9f33-7b710597c361"
   },
   "outputs": [
    {
     "name": "stdout",
     "output_type": "stream",
     "text": [
      "Number of words that are in VALIDATION set but not in TRAIN set: 3084\n",
      "Number of words that are in TEST set but not in TRAIN set: 3077\n"
     ]
    }
   ],
   "source": [
    "cache = stratified_split(df, tokenized_df)\n",
    "print(f\"Number of words that are in VALIDATION set but not in TRAIN set: {cache['val-train']}\")\n",
    "print(f\"Number of words that are in TEST set but not in TRAIN set: {cache['test-train']}\")"
   ]
  },
  {
   "cell_type": "code",
   "execution_count": 14,
   "metadata": {
    "id": "59b65467",
    "outputId": "261af2c0-685c-48b0-8308-1b0eeab4ba1e"
   },
   "outputs": [
    {
     "name": "stdout",
     "output_type": "stream",
     "text": [
      "Size of train, val and test datasets:\n",
      "Train: (17844, 3)\n",
      "Validation: (2230, 3)\n",
      "Test: (2231, 3)\n"
     ]
    }
   ],
   "source": [
    "cache['train_df'].to_csv(outputpath + \"cleaned_train.csv\", index=False)\n",
    "cache['val_df'].to_csv(outputpath + \"cleaned_validation.csv\", index=False)\n",
    "cache['test_df'].to_csv(outputpath + \"cleaned_test.csv\", index=False)\n",
    "\n",
    "print(\"Size of train, val and test datasets:\")\n",
    "print(f\"Train: {cache['train_df'].shape}\")\n",
    "print(f\"Validation: {cache['val_df'].shape}\")\n",
    "print(f\"Test: {cache['test_df'].shape}\")"
   ]
  }
 ],
 "metadata": {
  "colab": {
   "provenance": []
  },
  "kaggle": {
   "accelerator": "none",
   "dataSources": [
    {
     "datasetId": 1654566,
     "sourceId": 2734496,
     "sourceType": "datasetVersion"
    }
   ],
   "dockerImageVersionId": 31012,
   "isGpuEnabled": false,
   "isInternetEnabled": true,
   "language": "python",
   "sourceType": "notebook"
  },
  "kernelspec": {
   "display_name": "py313_env",
   "language": "python",
   "name": "python3"
  },
  "language_info": {
   "codemirror_mode": {
    "name": "ipython",
    "version": 3
   },
   "file_extension": ".py",
   "mimetype": "text/x-python",
   "name": "python",
   "nbconvert_exporter": "python",
   "pygments_lexer": "ipython3",
   "version": "3.12.9"
  }
 },
 "nbformat": 4,
 "nbformat_minor": 4
}
